{
  "nbformat": 4,
  "nbformat_minor": 0,
  "metadata": {
    "colab": {
      "provenance": [],
      "authorship_tag": "ABX9TyOpzxgZsUmT9Bl4MepEYbrZ",
      "include_colab_link": true
    },
    "kernelspec": {
      "name": "python3",
      "display_name": "Python 3"
    },
    "language_info": {
      "name": "python"
    }
  },
  "cells": [
    {
      "cell_type": "markdown",
      "metadata": {
        "id": "view-in-github",
        "colab_type": "text"
      },
      "source": [
        "<a href=\"https://colab.research.google.com/github/ritu-yadav/IPL-Score-Prediction/blob/main/IPL_Score_Prediction_using_Deep_Learning.ipynb\" target=\"_parent\"><img src=\"https://colab.research.google.com/assets/colab-badge.svg\" alt=\"Open In Colab\"/></a>"
      ]
    },
    {
      "cell_type": "code",
      "execution_count": null,
      "metadata": {
        "colab": {
          "base_uri": "https://localhost:8080/"
        },
        "id": "Z2Wn55RbTo0J",
        "outputId": "e2713679-4a6c-4450-dba3-b4572b31175b"
      },
      "outputs": [
        {
          "output_type": "stream",
          "name": "stdout",
          "text": [
            "Epoch 1/50\n",
            "\u001b[1m951/951\u001b[0m \u001b[32m━━━━━━━━━━━━━━━━━━━━\u001b[0m\u001b[37m\u001b[0m \u001b[1m8s\u001b[0m 7ms/step - loss: 5.3535 - val_loss: 2.2656\n",
            "Epoch 2/50\n",
            "\u001b[1m951/951\u001b[0m \u001b[32m━━━━━━━━━━━━━━━━━━━━\u001b[0m\u001b[37m\u001b[0m \u001b[1m15s\u001b[0m 11ms/step - loss: 2.2618 - val_loss: 2.2430\n",
            "Epoch 3/50\n",
            "\u001b[1m951/951\u001b[0m \u001b[32m━━━━━━━━━━━━━━━━━━━━\u001b[0m\u001b[37m\u001b[0m \u001b[1m9s\u001b[0m 10ms/step - loss: 2.2740 - val_loss: 2.2449\n",
            "Epoch 4/50\n",
            "\u001b[1m951/951\u001b[0m \u001b[32m━━━━━━━━━━━━━━━━━━━━\u001b[0m\u001b[37m\u001b[0m \u001b[1m7s\u001b[0m 7ms/step - loss: 2.2677 - val_loss: 2.2405\n",
            "Epoch 5/50\n",
            "\u001b[1m951/951\u001b[0m \u001b[32m━━━━━━━━━━━━━━━━━━━━\u001b[0m\u001b[37m\u001b[0m \u001b[1m5s\u001b[0m 5ms/step - loss: 2.2649 - val_loss: 2.2764\n",
            "Epoch 6/50\n",
            "\u001b[1m951/951\u001b[0m \u001b[32m━━━━━━━━━━━━━━━━━━━━\u001b[0m\u001b[37m\u001b[0m \u001b[1m7s\u001b[0m 7ms/step - loss: 2.2501 - val_loss: 2.2267\n",
            "Epoch 7/50\n",
            "\u001b[1m951/951\u001b[0m \u001b[32m━━━━━━━━━━━━━━━━━━━━\u001b[0m\u001b[37m\u001b[0m \u001b[1m8s\u001b[0m 5ms/step - loss: 2.2370 - val_loss: 2.2085\n",
            "Epoch 8/50\n",
            "\u001b[1m951/951\u001b[0m \u001b[32m━━━━━━━━━━━━━━━━━━━━\u001b[0m\u001b[37m\u001b[0m \u001b[1m6s\u001b[0m 6ms/step - loss: 2.2105 - val_loss: 2.1984\n",
            "Epoch 9/50\n",
            "\u001b[1m951/951\u001b[0m \u001b[32m━━━━━━━━━━━━━━━━━━━━\u001b[0m\u001b[37m\u001b[0m \u001b[1m4s\u001b[0m 5ms/step - loss: 2.2255 - val_loss: 2.1927\n",
            "Epoch 10/50\n",
            "\u001b[1m951/951\u001b[0m \u001b[32m━━━━━━━━━━━━━━━━━━━━\u001b[0m\u001b[37m\u001b[0m \u001b[1m7s\u001b[0m 7ms/step - loss: 2.2209 - val_loss: 2.1930\n",
            "Epoch 11/50\n",
            "\u001b[1m951/951\u001b[0m \u001b[32m━━━━━━━━━━━━━━━━━━━━\u001b[0m\u001b[37m\u001b[0m \u001b[1m5s\u001b[0m 5ms/step - loss: 2.2238 - val_loss: 2.2036\n",
            "Epoch 12/50\n",
            "\u001b[1m951/951\u001b[0m \u001b[32m━━━━━━━━━━━━━━━━━━━━\u001b[0m\u001b[37m\u001b[0m \u001b[1m4s\u001b[0m 5ms/step - loss: 2.2136 - val_loss: 2.2035\n",
            "Epoch 13/50\n",
            "\u001b[1m951/951\u001b[0m \u001b[32m━━━━━━━━━━━━━━━━━━━━\u001b[0m\u001b[37m\u001b[0m \u001b[1m6s\u001b[0m 7ms/step - loss: 2.1990 - val_loss: 2.1956\n",
            "Epoch 14/50\n",
            "\u001b[1m951/951\u001b[0m \u001b[32m━━━━━━━━━━━━━━━━━━━━\u001b[0m\u001b[37m\u001b[0m \u001b[1m4s\u001b[0m 5ms/step - loss: 2.2103 - val_loss: 2.1909\n",
            "Epoch 15/50\n",
            "\u001b[1m951/951\u001b[0m \u001b[32m━━━━━━━━━━━━━━━━━━━━\u001b[0m\u001b[37m\u001b[0m \u001b[1m6s\u001b[0m 6ms/step - loss: 2.2019 - val_loss: 2.2323\n",
            "Epoch 16/50\n",
            "\u001b[1m951/951\u001b[0m \u001b[32m━━━━━━━━━━━━━━━━━━━━\u001b[0m\u001b[37m\u001b[0m \u001b[1m5s\u001b[0m 6ms/step - loss: 2.2051 - val_loss: 2.1976\n",
            "Epoch 17/50\n",
            "\u001b[1m951/951\u001b[0m \u001b[32m━━━━━━━━━━━━━━━━━━━━\u001b[0m\u001b[37m\u001b[0m \u001b[1m5s\u001b[0m 5ms/step - loss: 2.2023 - val_loss: 2.1912\n",
            "Epoch 18/50\n",
            "\u001b[1m951/951\u001b[0m \u001b[32m━━━━━━━━━━━━━━━━━━━━\u001b[0m\u001b[37m\u001b[0m \u001b[1m6s\u001b[0m 7ms/step - loss: 2.1996 - val_loss: 2.1877\n",
            "Epoch 19/50\n",
            "\u001b[1m939/951\u001b[0m \u001b[32m━━━━━━━━━━━━━━━━━━━\u001b[0m\u001b[37m━\u001b[0m \u001b[1m0s\u001b[0m 4ms/step - loss: 2.2061"
          ]
        }
      ],
      "source": [
        "import pandas as pd\n",
        "import numpy as np\n",
        "import matplotlib.pyplot as plt\n",
        "import seaborn as sns\n",
        "from sklearn import preprocessing\n",
        "import keras\n",
        "import tensorflow as tf\n",
        "\n",
        "ipl = pd.read_csv('ipl_data.csv')\n",
        "ipl.head()\n",
        "\n",
        "df = ipl.drop(['date','runs','wickets','overs','runs_last_5','wickets_last_5','mid','striker','non-striker'],axis=1)\n",
        "X=df.drop(['total'],axis=1)\n",
        "y=df['total']\n",
        "\n",
        "\n",
        "from sklearn.preprocessing import LabelEncoder\n",
        "venue_encoder = LabelEncoder()\n",
        "batting_team_encoder = LabelEncoder()\n",
        "bowling_team_encoder = LabelEncoder()\n",
        "striker_encoder = LabelEncoder()\n",
        "bowler_encoder = LabelEncoder()\n",
        "\n",
        "X['venue']= venue_encoder.fit_transform(X['venue'])\n",
        "X['bat_team']=batting_team_encoder.fit_transform(X['bat_team'])\n",
        "X['bowl_team']=bowling_team_encoder.fit_transform(X['bowl_team'])\n",
        "X['batsman']=striker_encoder.fit_transform(X['batsman'])\n",
        "X['bowler']=bowler_encoder.fit_transform(X['bowler'])\n",
        "\n",
        "from sklearn.model_selection import train_test_split\n",
        "X_train,X_test,y_train,y_test = train_test_split(X,y,test_size=0.2,random_state=42)\n",
        "\n",
        "\n",
        "from sklearn.preprocessing import MinMaxScaler\n",
        "\n",
        "scaler = MinMaxScaler()\n",
        "X_train_scaled = scaler.fit_transform(X_train)\n",
        "X_test_scaled = scaler.transform(X_test)\n",
        "\n",
        "model = keras.Sequential([keras.layers.Input(shape=(X_train_scaled.shape[1],)),\n",
        "                          keras.layers.Dense(512,activation='relu'),\n",
        "                          keras.layers.Dense(216,activation='relu'),\n",
        "                          keras.layers.Dense(1,activation='linear')])\n",
        "huber_loss = tf.keras.losses.Huber(delta=0.1)\n",
        "model.compile(optimizer='adam',loss=huber_loss)\n",
        "\n",
        "model.fit(X_train_scaled,y_train,epochs=50,batch_size=64,validation_data=(X_test_scaled,y_test))\n",
        "\n",
        "model_losses = pd.DataFrame(model.history.history)\n",
        "model_losses.plot()\n",
        "\n",
        "predictions = model.predict(X_test_scaled)\n",
        "from sklearn.metrics import mean_absolute_error,mean_squared_error\n",
        "mean_absolute_error(y_test,predictions)\n",
        "\n",
        "import ipywidgets as widgets\n",
        "from IPython.display import display , clear_output\n",
        "import warnings\n",
        "warnings.filterwarnings(\"ignore\")\n",
        "\n",
        "venue =widgets.Dropdown(options=df['venue'].unique().tolist(),description='Select Venue')\n",
        "batting_team = widgets.Dropdown(options=df['bat_team'].unique().tolist(),description='Select Batting Team')\n",
        "bowling_team = widgets.Dropdown(options=df['bowl_team'].unique().tolist(),description='Select Bowling Team')\n",
        "striker = widgets.Dropdown(options=df['batsman'].unique().tolist(),description='Select Striker')\n",
        "bowler =widgets.Dropdown(options=df['bowler'].unique().tolist(),description='Select Bowler')\n",
        "\n",
        "predict_button =widgets.Button(description='Predict')\n",
        "\n",
        "def predict_score(b):\n",
        "  with output:\n",
        "    clear_output()\n",
        "\n",
        "    decoded_venue =venue_encoder.transform([venue.value])\n",
        "    decoded_batting_team =batting_team_encoder.transform([batting_team.value])\n",
        "    decoded_bowling_team =bowling_team_encoder.transform([bowling_team.value])\n",
        "    decoded_striker =striker_encoder.transform([striker.value])\n",
        "    decoded_bowler = striker_encoder.transform([bowler.value])\n",
        "\n",
        "    input=np.array([decoded_venue,decoded_batting_team,decoded_bowling_team,decoded_striker,decoded_bowler])\n",
        "    input=input.reshape(1,5)\n",
        "    input=scaler.transform(input)\n",
        "    predicted_score =model.predict(input)\n",
        "    predicted_score =int(predicted_score[0,0])\n",
        "    print(predicted_score)\n",
        "\n",
        "\n",
        "predict_button.on_click(predict_score)\n",
        "output = widgets.Output()\n",
        "display(venue, batting_team, bowling_team, striker, bowler, predict_button, output)\n",
        "\n",
        "\n"
      ]
    },
    {
      "cell_type": "code",
      "source": [],
      "metadata": {
        "id": "6JkA-6aJvBol"
      },
      "execution_count": null,
      "outputs": []
    }
  ]
}